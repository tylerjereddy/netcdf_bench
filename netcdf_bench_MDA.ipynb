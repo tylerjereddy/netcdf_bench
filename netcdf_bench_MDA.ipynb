{
 "cells": [
  {
   "cell_type": "markdown",
   "metadata": {},
   "source": [
    "The purpose of this notebook is to assess the performance of `AMBER` netcdf read/write operations in the `MDAnalysis` package as it pertains to the decision to replace `netCDF4` with `scipy.io.netcdf`\n",
    "\n",
    "**CAUTION**:\n",
    "Need to restart the Jupyter notebook kernel when swapping between different MDAnalysis builds, so the results shown below are actually produced with a workflow that involves \"switching\" kernels when needed for different MDAnalysis versions."
   ]
  },
  {
   "cell_type": "code",
   "execution_count": 1,
   "metadata": {
    "collapsed": false
   },
   "outputs": [],
   "source": [
    "%load_ext autoreload\n",
    "%autoreload 2\n",
    "import numpy as np\n",
    "import scipy\n",
    "import MDAnalysis\n",
    "import matplotlib.pyplot as plt\n",
    "%matplotlib notebook"
   ]
  },
  {
   "cell_type": "code",
   "execution_count": 2,
   "metadata": {
    "collapsed": true
   },
   "outputs": [],
   "source": [
    "#distributing these files in the github repo as well to make the notebook a bit more universal \n",
    "amber_top = 'bala.prmtop'\n",
    "amber_ncdf = 'bala.ncdf'"
   ]
  },
  {
   "cell_type": "code",
   "execution_count": 3,
   "metadata": {
    "collapsed": true
   },
   "outputs": [],
   "source": [
    "def test_read_ncdf(top = amber_top, traj = amber_ncdf):\n",
    "    u = MDAnalysis.Universe(top, traj)"
   ]
  },
  {
   "cell_type": "code",
   "execution_count": 4,
   "metadata": {
    "collapsed": false
   },
   "outputs": [
    {
     "name": "stdout",
     "output_type": "stream",
     "text": [
      "10 loops, best of 5: 118 ms per loop\n"
     ]
    }
   ],
   "source": [
    "#using MDAnalysis installation with scipy.io.netcdf -- scipy-ncdf-debug branch, commit hash: 565aa0\n",
    "%timeit -n 10 -r 5 test_read_ncdf()"
   ]
  },
  {
   "cell_type": "code",
   "execution_count": 4,
   "metadata": {
    "collapsed": false
   },
   "outputs": [
    {
     "name": "stdout",
     "output_type": "stream",
     "text": [
      "10 loops, best of 5: 30.1 ms per loop\n"
     ]
    }
   ],
   "source": [
    "#using MDAnalysis installation with netCDF4 -- develop branch commit hash aac24f9\n",
    "%timeit -n 10 -r 5 test_read_ncdf()"
   ]
  },
  {
   "cell_type": "code",
   "execution_count": null,
   "metadata": {
    "collapsed": true
   },
   "outputs": [],
   "source": []
  }
 ],
 "metadata": {
  "kernelspec": {
   "display_name": "Python 2",
   "language": "python",
   "name": "python2"
  },
  "language_info": {
   "codemirror_mode": {
    "name": "ipython",
    "version": 2
   },
   "file_extension": ".py",
   "mimetype": "text/x-python",
   "name": "python",
   "nbconvert_exporter": "python",
   "pygments_lexer": "ipython2",
   "version": "2.7.10"
  }
 },
 "nbformat": 4,
 "nbformat_minor": 0
}
